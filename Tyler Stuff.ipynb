{
 "cells": [
  {
   "cell_type": "code",
   "execution_count": 1,
   "id": "5e4057b0",
   "metadata": {},
   "outputs": [
    {
     "data": {
      "text/plain": [
       "4×5 Matrix{Int64}:\n",
       " 10   0  2  14   0\n",
       " 20  10  4  12   0\n",
       " 16  32  0   4  10\n",
       " 42  34  6  44  20"
      ]
     },
     "execution_count": 1,
     "metadata": {},
     "output_type": "execute_result"
    }
   ],
   "source": [
    "A = [10 0 2 14 0; 20 10 4 12 0; 16 32 0 4 10; 42 34 6 44 20]"
   ]
  },
  {
   "cell_type": "code",
   "execution_count": 7,
   "id": "305ee34d",
   "metadata": {},
   "outputs": [
    {
     "data": {
      "text/plain": [
       "3×4 Matrix{Int64}:\n",
       " 3  6   2   5\n",
       " 4  8  -2   1\n",
       " 0  3   7  -3"
      ]
     },
     "execution_count": 7,
     "metadata": {},
     "output_type": "execute_result"
    }
   ],
   "source": [
    "B = [3 6 2 5; 4 8 -2 1; 0 3 7 -3]"
   ]
  },
  {
   "cell_type": "code",
   "execution_count": 9,
   "id": "786a849e",
   "metadata": {},
   "outputs": [
    {
     "data": {
      "text/plain": [
       "3×5 Matrix{Int64}:\n",
       " 392  294  60  342  120\n",
       " 210   50  46  188    0\n",
       "  46  152  -6  -68   10"
      ]
     },
     "execution_count": 9,
     "metadata": {},
     "output_type": "execute_result"
    }
   ],
   "source": [
    "B*A"
   ]
  },
  {
   "cell_type": "code",
   "execution_count": 11,
   "id": "8c9b4532",
   "metadata": {},
   "outputs": [
    {
     "ename": "LoadError",
     "evalue": "DimensionMismatch(\"matrix is not square: dimensions are (3, 4)\")",
     "output_type": "error",
     "traceback": [
      "DimensionMismatch(\"matrix is not square: dimensions are (3, 4)\")",
      "",
      "Stacktrace:",
      " [1] checksquare",
      "   @ /Applications/Julia-1.7.app/Contents/Resources/julia/share/julia/stdlib/v1.7/LinearAlgebra/src/LinearAlgebra.jl:232 [inlined]",
      " [2] inv(A::Matrix{Int64})",
      "   @ LinearAlgebra /Applications/Julia-1.7.app/Contents/Resources/julia/share/julia/stdlib/v1.7/LinearAlgebra/src/dense.jl:868",
      " [3] top-level scope",
      "   @ In[11]:1",
      " [4] eval",
      "   @ ./boot.jl:373 [inlined]",
      " [5] include_string(mapexpr::typeof(REPL.softscope), mod::Module, code::String, filename::String)",
      "   @ Base ./loading.jl:1196"
     ]
    }
   ],
   "source": [
    "Binv = inv(B)"
   ]
  },
  {
   "cell_type": "code",
   "execution_count": 12,
   "id": "a5ce50cf",
   "metadata": {},
   "outputs": [
    {
     "data": {
      "text/plain": [
       "4×5 Matrix{Int64}:\n",
       " 10   0  38  10  12\n",
       "  6   0  48  18   0\n",
       " 42  38  27  20   0\n",
       "  8   2  14   6  20"
      ]
     },
     "execution_count": 12,
     "metadata": {},
     "output_type": "execute_result"
    }
   ],
   "source": [
    "A = [10 0 38 10 12; 6 0 48 18 0; 42 38 27 20 0; 8 2 14 6 20]"
   ]
  },
  {
   "cell_type": "code",
   "execution_count": 21,
   "id": "0200a1da",
   "metadata": {},
   "outputs": [
    {
     "data": {
      "text/plain": [
       "3×4 Matrix{Int64}:\n",
       " 4  2  -1  5\n",
       " 0  0  -6  7\n",
       " 5  2   7  3"
      ]
     },
     "execution_count": 21,
     "metadata": {},
     "output_type": "execute_result"
    }
   ],
   "source": [
    "B = [4 2 -1 5; 0 0 -6 7; 5 2 7 3]"
   ]
  },
  {
   "cell_type": "code",
   "execution_count": 27,
   "id": "b4ab9c43",
   "metadata": {},
   "outputs": [
    {
     "data": {
      "text/plain": [
       "3×5 Matrix{Int64}:\n",
       "   50   -28  291   86  148\n",
       " -196  -214  -64  -78  140\n",
       "  380   272  517  244  120"
      ]
     },
     "execution_count": 27,
     "metadata": {},
     "output_type": "execute_result"
    }
   ],
   "source": [
    "B*A"
   ]
  },
  {
   "cell_type": "code",
   "execution_count": null,
   "id": "cd41d074",
   "metadata": {},
   "outputs": [],
   "source": []
  }
 ],
 "metadata": {
  "kernelspec": {
   "display_name": "Julia 1.7.3",
   "language": "julia",
   "name": "julia-1.7"
  },
  "language_info": {
   "file_extension": ".jl",
   "mimetype": "application/julia",
   "name": "julia",
   "version": "1.7.3"
  }
 },
 "nbformat": 4,
 "nbformat_minor": 5
}
